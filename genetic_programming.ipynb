{
 "cells": [
  {
   "cell_type": "code",
   "execution_count": 1,
   "id": "8d427c8f",
   "metadata": {},
   "outputs": [],
   "source": [
    "import numpy as np\n",
    "import pandas as pd\n",
    "import matplotlib.pyplot as plt\n",
    "import seaborn as sns\n",
    "from gplearn.functions import make_function\n",
    "from gplearn.fitness import make_fitness\n",
    "from gplearn.genetic import SymbolicTransformer\n",
    "from sklearn.model_selection import train_test_split"
   ]
  },
  {
   "cell_type": "code",
   "execution_count": 2,
   "id": "b0152f30",
   "metadata": {},
   "outputs": [],
   "source": [
    "alpha = []"
   ]
  },
  {
   "cell_type": "code",
   "execution_count": 3,
   "id": "0ca802fb",
   "metadata": {},
   "outputs": [],
   "source": [
    "for i in range(1, 6):\n",
    "    path = \"alpha\" + str(i) + \".csv\"\n",
    "    alpha.append(pd.read_csv(path, index_col=0).iloc[:, 1])\n",
    "alpha.append(pd.read_csv(path, index_col=0).iloc[:, 0])\n",
    "alpha_matrix = pd.concat(alpha, axis = 1)\n",
    "alpha_matrix.columns = [\"alpha1\", \"alpha2\", \"alpha3\", \"alpha4\", \"alpha5\", \"return\"]\n",
    "alpha_matrix.replace(-np.inf, np.nan, inplace=True)\n",
    "alpha_matrix.replace(np.inf, np.nan, inplace=True)\n",
    "alpha_matrix.dropna(inplace=True)"
   ]
  },
  {
   "cell_type": "code",
   "execution_count": 4,
   "id": "b163647b",
   "metadata": {},
   "outputs": [
    {
     "data": {
      "text/html": [
       "<div>\n",
       "<style scoped>\n",
       "    .dataframe tbody tr th:only-of-type {\n",
       "        vertical-align: middle;\n",
       "    }\n",
       "\n",
       "    .dataframe tbody tr th {\n",
       "        vertical-align: top;\n",
       "    }\n",
       "\n",
       "    .dataframe thead th {\n",
       "        text-align: right;\n",
       "    }\n",
       "</style>\n",
       "<table border=\"1\" class=\"dataframe\">\n",
       "  <thead>\n",
       "    <tr style=\"text-align: right;\">\n",
       "      <th></th>\n",
       "      <th>alpha1</th>\n",
       "      <th>alpha2</th>\n",
       "      <th>alpha3</th>\n",
       "      <th>alpha4</th>\n",
       "      <th>alpha5</th>\n",
       "      <th>return</th>\n",
       "    </tr>\n",
       "    <tr>\n",
       "      <th>Time</th>\n",
       "      <th></th>\n",
       "      <th></th>\n",
       "      <th></th>\n",
       "      <th></th>\n",
       "      <th></th>\n",
       "      <th></th>\n",
       "    </tr>\n",
       "  </thead>\n",
       "  <tbody>\n",
       "    <tr>\n",
       "      <th>2022-08-22 09:02:00</th>\n",
       "      <td>0.002226</td>\n",
       "      <td>0.000258</td>\n",
       "      <td>5.003409</td>\n",
       "      <td>8.000000</td>\n",
       "      <td>811.301151</td>\n",
       "      <td>0.001487</td>\n",
       "    </tr>\n",
       "    <tr>\n",
       "      <th>2022-08-22 09:03:00</th>\n",
       "      <td>-0.001487</td>\n",
       "      <td>0.000442</td>\n",
       "      <td>4.995295</td>\n",
       "      <td>0.200000</td>\n",
       "      <td>132.249017</td>\n",
       "      <td>0.002227</td>\n",
       "    </tr>\n",
       "    <tr>\n",
       "      <th>2022-08-22 09:04:00</th>\n",
       "      <td>-0.002227</td>\n",
       "      <td>0.001971</td>\n",
       "      <td>4.996566</td>\n",
       "      <td>0.500000</td>\n",
       "      <td>323.119896</td>\n",
       "      <td>-0.002222</td>\n",
       "    </tr>\n",
       "    <tr>\n",
       "      <th>2022-08-22 09:05:00</th>\n",
       "      <td>0.002222</td>\n",
       "      <td>0.000389</td>\n",
       "      <td>5.003737</td>\n",
       "      <td>6.000000</td>\n",
       "      <td>177.065677</td>\n",
       "      <td>0.000742</td>\n",
       "    </tr>\n",
       "    <tr>\n",
       "      <th>2022-08-22 09:06:00</th>\n",
       "      <td>-0.000742</td>\n",
       "      <td>-0.000857</td>\n",
       "      <td>4.997188</td>\n",
       "      <td>0.250000</td>\n",
       "      <td>131.048609</td>\n",
       "      <td>-0.001484</td>\n",
       "    </tr>\n",
       "    <tr>\n",
       "      <th>...</th>\n",
       "      <td>...</td>\n",
       "      <td>...</td>\n",
       "      <td>...</td>\n",
       "      <td>...</td>\n",
       "      <td>...</td>\n",
       "      <td>...</td>\n",
       "    </tr>\n",
       "    <tr>\n",
       "      <th>2022-09-01 14:56:00</th>\n",
       "      <td>-0.000716</td>\n",
       "      <td>-0.000590</td>\n",
       "      <td>4.999999</td>\n",
       "      <td>0.666667</td>\n",
       "      <td>409.146333</td>\n",
       "      <td>0.000000</td>\n",
       "    </tr>\n",
       "    <tr>\n",
       "      <th>2022-09-01 14:57:00</th>\n",
       "      <td>-0.000000</td>\n",
       "      <td>-0.001156</td>\n",
       "      <td>4.999572</td>\n",
       "      <td>1.000000</td>\n",
       "      <td>949.338687</td>\n",
       "      <td>0.002146</td>\n",
       "    </tr>\n",
       "    <tr>\n",
       "      <th>2022-09-01 14:58:00</th>\n",
       "      <td>-0.002146</td>\n",
       "      <td>0.000257</td>\n",
       "      <td>4.996268</td>\n",
       "      <td>0.166667</td>\n",
       "      <td>87.531239</td>\n",
       "      <td>-0.000714</td>\n",
       "    </tr>\n",
       "    <tr>\n",
       "      <th>2022-09-01 14:59:00</th>\n",
       "      <td>0.000714</td>\n",
       "      <td>-0.003100</td>\n",
       "      <td>5.003117</td>\n",
       "      <td>3.000000</td>\n",
       "      <td>256.091527</td>\n",
       "      <td>-0.001071</td>\n",
       "    </tr>\n",
       "    <tr>\n",
       "      <th>2022-09-01 15:00:00</th>\n",
       "      <td>0.001071</td>\n",
       "      <td>-0.000003</td>\n",
       "      <td>4.998769</td>\n",
       "      <td>0.666667</td>\n",
       "      <td>10.718116</td>\n",
       "      <td>0.000000</td>\n",
       "    </tr>\n",
       "  </tbody>\n",
       "</table>\n",
       "<p>1640 rows × 6 columns</p>\n",
       "</div>"
      ],
      "text/plain": [
       "                       alpha1    alpha2    alpha3    alpha4      alpha5  \\\n",
       "Time                                                                      \n",
       "2022-08-22 09:02:00  0.002226  0.000258  5.003409  8.000000  811.301151   \n",
       "2022-08-22 09:03:00 -0.001487  0.000442  4.995295  0.200000  132.249017   \n",
       "2022-08-22 09:04:00 -0.002227  0.001971  4.996566  0.500000  323.119896   \n",
       "2022-08-22 09:05:00  0.002222  0.000389  5.003737  6.000000  177.065677   \n",
       "2022-08-22 09:06:00 -0.000742 -0.000857  4.997188  0.250000  131.048609   \n",
       "...                       ...       ...       ...       ...         ...   \n",
       "2022-09-01 14:56:00 -0.000716 -0.000590  4.999999  0.666667  409.146333   \n",
       "2022-09-01 14:57:00 -0.000000 -0.001156  4.999572  1.000000  949.338687   \n",
       "2022-09-01 14:58:00 -0.002146  0.000257  4.996268  0.166667   87.531239   \n",
       "2022-09-01 14:59:00  0.000714 -0.003100  5.003117  3.000000  256.091527   \n",
       "2022-09-01 15:00:00  0.001071 -0.000003  4.998769  0.666667   10.718116   \n",
       "\n",
       "                       return  \n",
       "Time                           \n",
       "2022-08-22 09:02:00  0.001487  \n",
       "2022-08-22 09:03:00  0.002227  \n",
       "2022-08-22 09:04:00 -0.002222  \n",
       "2022-08-22 09:05:00  0.000742  \n",
       "2022-08-22 09:06:00 -0.001484  \n",
       "...                       ...  \n",
       "2022-09-01 14:56:00  0.000000  \n",
       "2022-09-01 14:57:00  0.002146  \n",
       "2022-09-01 14:58:00 -0.000714  \n",
       "2022-09-01 14:59:00 -0.001071  \n",
       "2022-09-01 15:00:00  0.000000  \n",
       "\n",
       "[1640 rows x 6 columns]"
      ]
     },
     "execution_count": 4,
     "metadata": {},
     "output_type": "execute_result"
    }
   ],
   "source": [
    "alpha_matrix"
   ]
  },
  {
   "cell_type": "code",
   "execution_count": 5,
   "id": "c527cc10",
   "metadata": {},
   "outputs": [],
   "source": [
    "X = alpha_matrix.iloc[:, :5]\n",
    "y = alpha_matrix.iloc[:, 5]"
   ]
  },
  {
   "cell_type": "code",
   "execution_count": 6,
   "id": "16c9ab1f",
   "metadata": {},
   "outputs": [],
   "source": [
    "X_train,X_test,y_train,y_test = train_test_split(X,y,test_size=0.2)"
   ]
  },
  {
   "cell_type": "code",
   "execution_count": 7,
   "id": "116ceca7",
   "metadata": {},
   "outputs": [],
   "source": [
    "init_function = ['add', 'sub', 'mul', 'div', 'sqrt', 'log',\n",
    "                      'abs', 'neg', 'inv', 'max', 'min']\n",
    "\n",
    "function_set = init_function"
   ]
  },
  {
   "cell_type": "code",
   "execution_count": 20,
   "id": "ec544a2d",
   "metadata": {},
   "outputs": [],
   "source": [
    "def _my_metric(y, y_pred, w):\n",
    "    return np.sum((y - y_pred)**2)\n",
    "metric = make_fitness(function=_my_metric, greater_is_better=False)"
   ]
  },
  {
   "cell_type": "code",
   "execution_count": 26,
   "id": "5ff09142",
   "metadata": {},
   "outputs": [
    {
     "name": "stdout",
     "output_type": "stream",
     "text": [
      "    |   Population Average    |             Best Individual              |\n",
      "---- ------------------------- ------------------------------------------ ----------\n",
      " Gen   Length          Fitness   Length          Fitness      OOB Fitness  Time Left\n",
      "   0     3.59      3.39942e+12        3       0.00114316              N/A      0.81s\n"
     ]
    },
    {
     "data": {
      "text/plain": [
       "SymbolicTransformer(feature_names=Index(['alpha1', 'alpha2', 'alpha3', 'alpha4', 'alpha5'], dtype='object'),\n",
       "                    function_set=['add', 'sub', 'mul', 'div', 'sqrt', 'log',\n",
       "                                  'abs', 'neg', 'inv', 'max', 'min'],\n",
       "                    generations=10, init_depth=(1, 2),\n",
       "                    metric=<gplearn.fitness._Fitness object at 0x000002705E9B51C0>,\n",
       "                    n_jobs=-1, p_crossover=0.6, p_hoist_mutation=0,\n",
       "                    p_point_mutation=0.1, p_point_replace=0.4,\n",
       "                    p_subtree_mutation=0.1, verbose=1)"
      ]
     },
     "execution_count": 26,
     "metadata": {},
     "output_type": "execute_result"
    }
   ],
   "source": [
    " gpmodel = SymbolicTransformer(\n",
    "    feature_names = alpha_matrix.columns[:5], \n",
    "    function_set = function_set,\n",
    "    metric = metric,\n",
    "    generations = 10,\n",
    "    init_depth = (1,2),\n",
    "    population_size = 1000,\n",
    "    tournament_size = 20, \n",
    "    p_crossover = 0.6, \n",
    "    p_subtree_mutation = 0.1,\n",
    "    p_hoist_mutation = 0, \n",
    "    p_point_mutation = 0.1,\n",
    "    p_point_replace = 0.4,\n",
    "    verbose = 1,\n",
    "    n_jobs = -1\n",
    ")\n",
    "\n",
    "gpmodel.fit(X_train, y_train)"
   ]
  },
  {
   "cell_type": "code",
   "execution_count": 27,
   "id": "b3a25b2a",
   "metadata": {},
   "outputs": [
    {
     "name": "stdout",
     "output_type": "stream",
     "text": [
      "[mul(0.177, alpha2),\n",
      " mul(alpha2, alpha2),\n",
      " mul(mul(alpha2, alpha1), abs(alpha4)),\n",
      " abs(mul(alpha1, alpha1)),\n",
      " mul(alpha1, alpha2),\n",
      " min(min(alpha3, alpha4), mul(0.174, alpha1)),\n",
      " mul(sqrt(alpha4), div(alpha1, alpha5)),\n",
      " div(max(alpha1, alpha2), div(alpha3, alpha2)),\n",
      " sqrt(mul(alpha2, alpha1)),\n",
      " min(abs(alpha1), alpha4)]\n"
     ]
    }
   ],
   "source": [
    "print(gpmodel)"
   ]
  },
  {
   "cell_type": "code",
   "execution_count": null,
   "id": "2b034e49",
   "metadata": {},
   "outputs": [],
   "source": [
    "# The IC of mul(alpha2, alpha2)\n",
    "print(\"training dataset:\\n {}\".format(np.corrcoef(X_train.iloc[:, 1]**2, y_train)))\n",
    "print(\"testing dataset:\\n {}\".format(np.corrcoef(X_test.iloc[:, 1]**2, y_test)))"
   ]
  },
  {
   "cell_type": "code",
   "execution_count": 45,
   "id": "05049672",
   "metadata": {},
   "outputs": [
    {
     "name": "stdout",
     "output_type": "stream",
     "text": [
      "training dataset:\n",
      " [[1.         0.10084595]\n",
      " [0.10084595 1.        ]]\n",
      "testing dataset:\n",
      " [[1.         0.10619565]\n",
      " [0.10619565 1.        ]]\n"
     ]
    }
   ],
   "source": [
    "# The IC of mul(mul(alpha2, alpha1), abs(alpha4))\n",
    "print(\"training dataset:\\n {}\".format(np.corrcoef(X_train.iloc[:, 1]*X_train.iloc[:, 0]*X_train.iloc[:, 3].abs(), y_train)))\n",
    "print(\"testing dataset:\\n {}\".format(np.corrcoef((X_test.iloc[:, 1]*X_test.iloc[:, 0]*X_test.iloc[:, 3].abs(), y_test))))"
   ]
  },
  {
   "cell_type": "code",
   "execution_count": 46,
   "id": "3d226c3e",
   "metadata": {},
   "outputs": [
    {
     "name": "stdout",
     "output_type": "stream",
     "text": [
      "training dataset:\n",
      " [[ 1.         -0.01632279]\n",
      " [-0.01632279  1.        ]]\n",
      "testing dataset:\n",
      " [[ 1.         -0.03278857]\n",
      " [-0.03278857  1.        ]]\n"
     ]
    }
   ],
   "source": [
    "# The IC of mul(alpha1, alpha1)\n",
    "print(\"training dataset:\\n {}\".format(np.corrcoef(X_train.iloc[:, 0]**2, y_train)))\n",
    "print(\"testing dataset:\\n {}\".format(np.corrcoef((X_test.iloc[:, 0]**2, y_test))))"
   ]
  },
  {
   "cell_type": "code",
   "execution_count": 35,
   "id": "711a052e",
   "metadata": {},
   "outputs": [
    {
     "name": "stdout",
     "output_type": "stream",
     "text": [
      "training dataset:\n",
      " [[ 1.         -0.04067354]\n",
      " [-0.04067354  1.        ]]\n",
      "testing dataset:\n",
      " [[1.         0.12176642]\n",
      " [0.12176642 1.        ]]\n"
     ]
    }
   ],
   "source": [
    "# The IC of mul(alpha1, alpha2)\n",
    "print(\"training dataset:\\n {}\".format(np.corrcoef(X_train.iloc[:, 1]*X_train.iloc[:, 0], y_train)))\n",
    "print(\"testing dataset:\\n {}\".format(np.corrcoef((X_test.iloc[:, 1]*X_test.iloc[:, 0], y_test))))"
   ]
  },
  {
   "cell_type": "code",
   "execution_count": 37,
   "id": "1574ca17",
   "metadata": {},
   "outputs": [
    {
     "name": "stdout",
     "output_type": "stream",
     "text": [
      "training dataset:\n",
      " [[1.         0.07337739]\n",
      " [0.07337739 1.        ]]\n",
      "testing dataset:\n",
      " [[1.         0.16958539]\n",
      " [0.16958539 1.        ]]\n"
     ]
    }
   ],
   "source": [
    "# The IC of min(min(alpha3, alpha4), mul(0.174, alpha1))\n",
    "print(\"training dataset:\\n {}\".format(np.corrcoef(np.minimum(np.minimum(X_train.iloc[:, 2], X_train.iloc[:, 3]), 0.173*X_train.iloc[:, 0]), y_train)))\n",
    "print(\"testing dataset:\\n {}\".format(np.corrcoef((np.minimum(np.minimum(X_test.iloc[:, 2], X_test.iloc[:, 3]), 0.173*X_test.iloc[:, 0]), y_test))))"
   ]
  },
  {
   "cell_type": "code",
   "execution_count": 39,
   "id": "401e243a",
   "metadata": {},
   "outputs": [
    {
     "name": "stdout",
     "output_type": "stream",
     "text": [
      "training dataset:\n",
      " [[1.         0.02877139]\n",
      " [0.02877139 1.        ]]\n",
      "testing dataset:\n",
      " [[1.         0.06361156]\n",
      " [0.06361156 1.        ]]\n"
     ]
    }
   ],
   "source": [
    "# The IC of mul(sqrt(alpha4), div(alpha1, alpha5))\n",
    "print(\"training dataset:\\n {}\".format(np.corrcoef(X_train.iloc[:, 3]**(1/2)*X_train.iloc[:, 0]/X_train.iloc[:, 4], y_train)))\n",
    "print(\"testing dataset:\\n {}\".format(np.corrcoef(X_test.iloc[:, 3]**(1/2)*X_test.iloc[:, 0]/X_test.iloc[:, 4], y_test)))"
   ]
  },
  {
   "cell_type": "code",
   "execution_count": 40,
   "id": "970dd40d",
   "metadata": {},
   "outputs": [
    {
     "name": "stdout",
     "output_type": "stream",
     "text": [
      "training dataset:\n",
      " [[1.         0.11352925]\n",
      " [0.11352925 1.        ]]\n",
      "testing dataset:\n",
      " [[1.        0.0674851]\n",
      " [0.0674851 1.       ]]\n"
     ]
    }
   ],
   "source": [
    "# The IC of div(max(alpha1, alpha2), div(alpha3, alpha2))\n",
    "print(\"training dataset:\\n {}\".format(np.corrcoef(np.maximum(X_train.iloc[:, 0], X_train.iloc[:, 2])/(X_train.iloc[:, 2]/X_train.iloc[:, 1]), y_train)))\n",
    "print(\"testing dataset:\\n {}\".format(np.corrcoef(np.maximum(X_test.iloc[:, 0], X_test.iloc[:, 2])/(X_test.iloc[:, 2]/X_test.iloc[:, 1]), y_test)))"
   ]
  },
  {
   "cell_type": "code",
   "execution_count": 42,
   "id": "10f23364",
   "metadata": {},
   "outputs": [
    {
     "name": "stdout",
     "output_type": "stream",
     "text": [
      "training dataset:\n",
      " [[1.         0.07264207]\n",
      " [0.07264207 1.        ]]\n",
      "testing dataset:\n",
      " [[1.         0.06705202]\n",
      " [0.06705202 1.        ]]\n"
     ]
    }
   ],
   "source": [
    "# The IC of abs(sqrt(mul(alpha1, alpha2)))\n",
    "print(\"training dataset:\\n {}\".format(np.corrcoef((X_train.iloc[:, 1]*X_train.iloc[:, 0]).abs()**(1/2), y_train)))\n",
    "print(\"testing dataset:\\n {}\".format(np.corrcoef(((X_test.iloc[:, 1]*X_test.iloc[:, 0]).abs()**(1/2), y_test))))"
   ]
  },
  {
   "cell_type": "code",
   "execution_count": 44,
   "id": "e5e7d85b",
   "metadata": {},
   "outputs": [
    {
     "name": "stdout",
     "output_type": "stream",
     "text": [
      "training dataset:\n",
      " [[1.         0.02388513]\n",
      " [0.02388513 1.        ]]\n",
      "testing dataset:\n",
      " [[1.         0.00979593]\n",
      " [0.00979593 1.        ]]\n"
     ]
    }
   ],
   "source": [
    "# The IC of min(abs(alpha1), alpha4)\n",
    "print(\"training dataset:\\n {}\".format(np.corrcoef(np.minimum(X_train.iloc[:, 0].abs(), X_train.iloc[:, 3]), y_train)))\n",
    "print(\"testing dataset:\\n {}\".format(np.corrcoef(np.minimum(X_test.iloc[:, 0].abs(), X_test.iloc[:, 3]), y_test)))"
   ]
  },
  {
   "cell_type": "code",
   "execution_count": 48,
   "id": "ae43db84",
   "metadata": {},
   "outputs": [],
   "source": [
    "alpha_matrix.loc[:, \"alpha6\"] = alpha_matrix.iloc[:, 1]**2\n",
    "alpha_matrix.loc[:, \"alpha7\"] = alpha_matrix.iloc[:, 1]*alpha_matrix.iloc[:, 0]*alpha_matrix.iloc[:, 3].abs()\n",
    "alpha_matrix.loc[:, \"alpha8\"] = np.minimum(np.minimum(alpha_matrix.iloc[:, 2], alpha_matrix.iloc[:, 3]), 0.173*alpha_matrix.iloc[:, 0])"
   ]
  },
  {
   "cell_type": "code",
   "execution_count": 49,
   "id": "cee0457c",
   "metadata": {},
   "outputs": [
    {
     "data": {
      "text/html": [
       "<div>\n",
       "<style scoped>\n",
       "    .dataframe tbody tr th:only-of-type {\n",
       "        vertical-align: middle;\n",
       "    }\n",
       "\n",
       "    .dataframe tbody tr th {\n",
       "        vertical-align: top;\n",
       "    }\n",
       "\n",
       "    .dataframe thead th {\n",
       "        text-align: right;\n",
       "    }\n",
       "</style>\n",
       "<table border=\"1\" class=\"dataframe\">\n",
       "  <thead>\n",
       "    <tr style=\"text-align: right;\">\n",
       "      <th></th>\n",
       "      <th>alpha1</th>\n",
       "      <th>alpha2</th>\n",
       "      <th>alpha3</th>\n",
       "      <th>alpha4</th>\n",
       "      <th>alpha5</th>\n",
       "      <th>return</th>\n",
       "      <th>alpha6</th>\n",
       "      <th>alpha7</th>\n",
       "      <th>alpha8</th>\n",
       "    </tr>\n",
       "    <tr>\n",
       "      <th>Time</th>\n",
       "      <th></th>\n",
       "      <th></th>\n",
       "      <th></th>\n",
       "      <th></th>\n",
       "      <th></th>\n",
       "      <th></th>\n",
       "      <th></th>\n",
       "      <th></th>\n",
       "      <th></th>\n",
       "    </tr>\n",
       "  </thead>\n",
       "  <tbody>\n",
       "    <tr>\n",
       "      <th>2022-08-22 09:02:00</th>\n",
       "      <td>0.002226</td>\n",
       "      <td>0.000258</td>\n",
       "      <td>5.003409</td>\n",
       "      <td>8.000000</td>\n",
       "      <td>811.301151</td>\n",
       "      <td>0.001487</td>\n",
       "      <td>6.634759e-08</td>\n",
       "      <td>4.585999e-06</td>\n",
       "      <td>0.000385</td>\n",
       "    </tr>\n",
       "    <tr>\n",
       "      <th>2022-08-22 09:03:00</th>\n",
       "      <td>-0.001487</td>\n",
       "      <td>0.000442</td>\n",
       "      <td>4.995295</td>\n",
       "      <td>0.200000</td>\n",
       "      <td>132.249017</td>\n",
       "      <td>0.002227</td>\n",
       "      <td>1.949258e-07</td>\n",
       "      <td>-1.313023e-07</td>\n",
       "      <td>-0.000257</td>\n",
       "    </tr>\n",
       "    <tr>\n",
       "      <th>2022-08-22 09:04:00</th>\n",
       "      <td>-0.002227</td>\n",
       "      <td>0.001971</td>\n",
       "      <td>4.996566</td>\n",
       "      <td>0.500000</td>\n",
       "      <td>323.119896</td>\n",
       "      <td>-0.002222</td>\n",
       "      <td>3.885850e-06</td>\n",
       "      <td>-2.195162e-06</td>\n",
       "      <td>-0.000385</td>\n",
       "    </tr>\n",
       "    <tr>\n",
       "      <th>2022-08-22 09:05:00</th>\n",
       "      <td>0.002222</td>\n",
       "      <td>0.000389</td>\n",
       "      <td>5.003737</td>\n",
       "      <td>6.000000</td>\n",
       "      <td>177.065677</td>\n",
       "      <td>0.000742</td>\n",
       "      <td>1.509589e-07</td>\n",
       "      <td>5.180457e-06</td>\n",
       "      <td>0.000384</td>\n",
       "    </tr>\n",
       "    <tr>\n",
       "      <th>2022-08-22 09:06:00</th>\n",
       "      <td>-0.000742</td>\n",
       "      <td>-0.000857</td>\n",
       "      <td>4.997188</td>\n",
       "      <td>0.250000</td>\n",
       "      <td>131.048609</td>\n",
       "      <td>-0.001484</td>\n",
       "      <td>7.338000e-07</td>\n",
       "      <td>1.589869e-07</td>\n",
       "      <td>-0.000128</td>\n",
       "    </tr>\n",
       "    <tr>\n",
       "      <th>...</th>\n",
       "      <td>...</td>\n",
       "      <td>...</td>\n",
       "      <td>...</td>\n",
       "      <td>...</td>\n",
       "      <td>...</td>\n",
       "      <td>...</td>\n",
       "      <td>...</td>\n",
       "      <td>...</td>\n",
       "      <td>...</td>\n",
       "    </tr>\n",
       "    <tr>\n",
       "      <th>2022-09-01 14:56:00</th>\n",
       "      <td>-0.000716</td>\n",
       "      <td>-0.000590</td>\n",
       "      <td>4.999999</td>\n",
       "      <td>0.666667</td>\n",
       "      <td>409.146333</td>\n",
       "      <td>0.000000</td>\n",
       "      <td>3.477241e-07</td>\n",
       "      <td>2.814037e-07</td>\n",
       "      <td>-0.000124</td>\n",
       "    </tr>\n",
       "    <tr>\n",
       "      <th>2022-09-01 14:57:00</th>\n",
       "      <td>-0.000000</td>\n",
       "      <td>-0.001156</td>\n",
       "      <td>4.999572</td>\n",
       "      <td>1.000000</td>\n",
       "      <td>949.338687</td>\n",
       "      <td>0.002146</td>\n",
       "      <td>1.335380e-06</td>\n",
       "      <td>0.000000e+00</td>\n",
       "      <td>-0.000000</td>\n",
       "    </tr>\n",
       "    <tr>\n",
       "      <th>2022-09-01 14:58:00</th>\n",
       "      <td>-0.002146</td>\n",
       "      <td>0.000257</td>\n",
       "      <td>4.996268</td>\n",
       "      <td>0.166667</td>\n",
       "      <td>87.531239</td>\n",
       "      <td>-0.000714</td>\n",
       "      <td>6.604965e-08</td>\n",
       "      <td>-9.191747e-08</td>\n",
       "      <td>-0.000371</td>\n",
       "    </tr>\n",
       "    <tr>\n",
       "      <th>2022-09-01 14:59:00</th>\n",
       "      <td>0.000714</td>\n",
       "      <td>-0.003100</td>\n",
       "      <td>5.003117</td>\n",
       "      <td>3.000000</td>\n",
       "      <td>256.091527</td>\n",
       "      <td>-0.001071</td>\n",
       "      <td>9.610507e-06</td>\n",
       "      <td>-6.638291e-06</td>\n",
       "      <td>0.000123</td>\n",
       "    </tr>\n",
       "    <tr>\n",
       "      <th>2022-09-01 15:00:00</th>\n",
       "      <td>0.001071</td>\n",
       "      <td>-0.000003</td>\n",
       "      <td>4.998769</td>\n",
       "      <td>0.666667</td>\n",
       "      <td>10.718116</td>\n",
       "      <td>0.000000</td>\n",
       "      <td>1.058189e-11</td>\n",
       "      <td>-2.323559e-09</td>\n",
       "      <td>0.000185</td>\n",
       "    </tr>\n",
       "  </tbody>\n",
       "</table>\n",
       "<p>1640 rows × 9 columns</p>\n",
       "</div>"
      ],
      "text/plain": [
       "                       alpha1    alpha2    alpha3    alpha4      alpha5  \\\n",
       "Time                                                                      \n",
       "2022-08-22 09:02:00  0.002226  0.000258  5.003409  8.000000  811.301151   \n",
       "2022-08-22 09:03:00 -0.001487  0.000442  4.995295  0.200000  132.249017   \n",
       "2022-08-22 09:04:00 -0.002227  0.001971  4.996566  0.500000  323.119896   \n",
       "2022-08-22 09:05:00  0.002222  0.000389  5.003737  6.000000  177.065677   \n",
       "2022-08-22 09:06:00 -0.000742 -0.000857  4.997188  0.250000  131.048609   \n",
       "...                       ...       ...       ...       ...         ...   \n",
       "2022-09-01 14:56:00 -0.000716 -0.000590  4.999999  0.666667  409.146333   \n",
       "2022-09-01 14:57:00 -0.000000 -0.001156  4.999572  1.000000  949.338687   \n",
       "2022-09-01 14:58:00 -0.002146  0.000257  4.996268  0.166667   87.531239   \n",
       "2022-09-01 14:59:00  0.000714 -0.003100  5.003117  3.000000  256.091527   \n",
       "2022-09-01 15:00:00  0.001071 -0.000003  4.998769  0.666667   10.718116   \n",
       "\n",
       "                       return        alpha6        alpha7    alpha8  \n",
       "Time                                                                 \n",
       "2022-08-22 09:02:00  0.001487  6.634759e-08  4.585999e-06  0.000385  \n",
       "2022-08-22 09:03:00  0.002227  1.949258e-07 -1.313023e-07 -0.000257  \n",
       "2022-08-22 09:04:00 -0.002222  3.885850e-06 -2.195162e-06 -0.000385  \n",
       "2022-08-22 09:05:00  0.000742  1.509589e-07  5.180457e-06  0.000384  \n",
       "2022-08-22 09:06:00 -0.001484  7.338000e-07  1.589869e-07 -0.000128  \n",
       "...                       ...           ...           ...       ...  \n",
       "2022-09-01 14:56:00  0.000000  3.477241e-07  2.814037e-07 -0.000124  \n",
       "2022-09-01 14:57:00  0.002146  1.335380e-06  0.000000e+00 -0.000000  \n",
       "2022-09-01 14:58:00 -0.000714  6.604965e-08 -9.191747e-08 -0.000371  \n",
       "2022-09-01 14:59:00 -0.001071  9.610507e-06 -6.638291e-06  0.000123  \n",
       "2022-09-01 15:00:00  0.000000  1.058189e-11 -2.323559e-09  0.000185  \n",
       "\n",
       "[1640 rows x 9 columns]"
      ]
     },
     "execution_count": 49,
     "metadata": {},
     "output_type": "execute_result"
    }
   ],
   "source": [
    "alpha_matrix"
   ]
  },
  {
   "cell_type": "code",
   "execution_count": 59,
   "id": "941741ae",
   "metadata": {},
   "outputs": [],
   "source": [
    "alpha_matrix_2 = alpha_matrix.drop(\"return\", axis=1)"
   ]
  },
  {
   "cell_type": "code",
   "execution_count": 51,
   "id": "f47b37ff",
   "metadata": {},
   "outputs": [
    {
     "data": {
      "text/html": [
       "<div>\n",
       "<style scoped>\n",
       "    .dataframe tbody tr th:only-of-type {\n",
       "        vertical-align: middle;\n",
       "    }\n",
       "\n",
       "    .dataframe tbody tr th {\n",
       "        vertical-align: top;\n",
       "    }\n",
       "\n",
       "    .dataframe thead th {\n",
       "        text-align: right;\n",
       "    }\n",
       "</style>\n",
       "<table border=\"1\" class=\"dataframe\">\n",
       "  <thead>\n",
       "    <tr style=\"text-align: right;\">\n",
       "      <th></th>\n",
       "      <th>alpha1</th>\n",
       "      <th>alpha2</th>\n",
       "      <th>alpha3</th>\n",
       "      <th>alpha4</th>\n",
       "      <th>alpha5</th>\n",
       "      <th>alpha6</th>\n",
       "      <th>alpha7</th>\n",
       "      <th>alpha8</th>\n",
       "    </tr>\n",
       "    <tr>\n",
       "      <th>Time</th>\n",
       "      <th></th>\n",
       "      <th></th>\n",
       "      <th></th>\n",
       "      <th></th>\n",
       "      <th></th>\n",
       "      <th></th>\n",
       "      <th></th>\n",
       "      <th></th>\n",
       "    </tr>\n",
       "  </thead>\n",
       "  <tbody>\n",
       "    <tr>\n",
       "      <th>2022-08-22 09:02:00</th>\n",
       "      <td>0.002226</td>\n",
       "      <td>0.000258</td>\n",
       "      <td>5.003409</td>\n",
       "      <td>8.000000</td>\n",
       "      <td>811.301151</td>\n",
       "      <td>6.634759e-08</td>\n",
       "      <td>4.585999e-06</td>\n",
       "      <td>0.000385</td>\n",
       "    </tr>\n",
       "    <tr>\n",
       "      <th>2022-08-22 09:03:00</th>\n",
       "      <td>-0.001487</td>\n",
       "      <td>0.000442</td>\n",
       "      <td>4.995295</td>\n",
       "      <td>0.200000</td>\n",
       "      <td>132.249017</td>\n",
       "      <td>1.949258e-07</td>\n",
       "      <td>-1.313023e-07</td>\n",
       "      <td>-0.000257</td>\n",
       "    </tr>\n",
       "    <tr>\n",
       "      <th>2022-08-22 09:04:00</th>\n",
       "      <td>-0.002227</td>\n",
       "      <td>0.001971</td>\n",
       "      <td>4.996566</td>\n",
       "      <td>0.500000</td>\n",
       "      <td>323.119896</td>\n",
       "      <td>3.885850e-06</td>\n",
       "      <td>-2.195162e-06</td>\n",
       "      <td>-0.000385</td>\n",
       "    </tr>\n",
       "    <tr>\n",
       "      <th>2022-08-22 09:05:00</th>\n",
       "      <td>0.002222</td>\n",
       "      <td>0.000389</td>\n",
       "      <td>5.003737</td>\n",
       "      <td>6.000000</td>\n",
       "      <td>177.065677</td>\n",
       "      <td>1.509589e-07</td>\n",
       "      <td>5.180457e-06</td>\n",
       "      <td>0.000384</td>\n",
       "    </tr>\n",
       "    <tr>\n",
       "      <th>2022-08-22 09:06:00</th>\n",
       "      <td>-0.000742</td>\n",
       "      <td>-0.000857</td>\n",
       "      <td>4.997188</td>\n",
       "      <td>0.250000</td>\n",
       "      <td>131.048609</td>\n",
       "      <td>7.338000e-07</td>\n",
       "      <td>1.589869e-07</td>\n",
       "      <td>-0.000128</td>\n",
       "    </tr>\n",
       "    <tr>\n",
       "      <th>...</th>\n",
       "      <td>...</td>\n",
       "      <td>...</td>\n",
       "      <td>...</td>\n",
       "      <td>...</td>\n",
       "      <td>...</td>\n",
       "      <td>...</td>\n",
       "      <td>...</td>\n",
       "      <td>...</td>\n",
       "    </tr>\n",
       "    <tr>\n",
       "      <th>2022-09-01 14:56:00</th>\n",
       "      <td>-0.000716</td>\n",
       "      <td>-0.000590</td>\n",
       "      <td>4.999999</td>\n",
       "      <td>0.666667</td>\n",
       "      <td>409.146333</td>\n",
       "      <td>3.477241e-07</td>\n",
       "      <td>2.814037e-07</td>\n",
       "      <td>-0.000124</td>\n",
       "    </tr>\n",
       "    <tr>\n",
       "      <th>2022-09-01 14:57:00</th>\n",
       "      <td>-0.000000</td>\n",
       "      <td>-0.001156</td>\n",
       "      <td>4.999572</td>\n",
       "      <td>1.000000</td>\n",
       "      <td>949.338687</td>\n",
       "      <td>1.335380e-06</td>\n",
       "      <td>0.000000e+00</td>\n",
       "      <td>-0.000000</td>\n",
       "    </tr>\n",
       "    <tr>\n",
       "      <th>2022-09-01 14:58:00</th>\n",
       "      <td>-0.002146</td>\n",
       "      <td>0.000257</td>\n",
       "      <td>4.996268</td>\n",
       "      <td>0.166667</td>\n",
       "      <td>87.531239</td>\n",
       "      <td>6.604965e-08</td>\n",
       "      <td>-9.191747e-08</td>\n",
       "      <td>-0.000371</td>\n",
       "    </tr>\n",
       "    <tr>\n",
       "      <th>2022-09-01 14:59:00</th>\n",
       "      <td>0.000714</td>\n",
       "      <td>-0.003100</td>\n",
       "      <td>5.003117</td>\n",
       "      <td>3.000000</td>\n",
       "      <td>256.091527</td>\n",
       "      <td>9.610507e-06</td>\n",
       "      <td>-6.638291e-06</td>\n",
       "      <td>0.000123</td>\n",
       "    </tr>\n",
       "    <tr>\n",
       "      <th>2022-09-01 15:00:00</th>\n",
       "      <td>0.001071</td>\n",
       "      <td>-0.000003</td>\n",
       "      <td>4.998769</td>\n",
       "      <td>0.666667</td>\n",
       "      <td>10.718116</td>\n",
       "      <td>1.058189e-11</td>\n",
       "      <td>-2.323559e-09</td>\n",
       "      <td>0.000185</td>\n",
       "    </tr>\n",
       "  </tbody>\n",
       "</table>\n",
       "<p>1640 rows × 8 columns</p>\n",
       "</div>"
      ],
      "text/plain": [
       "                       alpha1    alpha2    alpha3    alpha4      alpha5  \\\n",
       "Time                                                                      \n",
       "2022-08-22 09:02:00  0.002226  0.000258  5.003409  8.000000  811.301151   \n",
       "2022-08-22 09:03:00 -0.001487  0.000442  4.995295  0.200000  132.249017   \n",
       "2022-08-22 09:04:00 -0.002227  0.001971  4.996566  0.500000  323.119896   \n",
       "2022-08-22 09:05:00  0.002222  0.000389  5.003737  6.000000  177.065677   \n",
       "2022-08-22 09:06:00 -0.000742 -0.000857  4.997188  0.250000  131.048609   \n",
       "...                       ...       ...       ...       ...         ...   \n",
       "2022-09-01 14:56:00 -0.000716 -0.000590  4.999999  0.666667  409.146333   \n",
       "2022-09-01 14:57:00 -0.000000 -0.001156  4.999572  1.000000  949.338687   \n",
       "2022-09-01 14:58:00 -0.002146  0.000257  4.996268  0.166667   87.531239   \n",
       "2022-09-01 14:59:00  0.000714 -0.003100  5.003117  3.000000  256.091527   \n",
       "2022-09-01 15:00:00  0.001071 -0.000003  4.998769  0.666667   10.718116   \n",
       "\n",
       "                           alpha6        alpha7    alpha8  \n",
       "Time                                                       \n",
       "2022-08-22 09:02:00  6.634759e-08  4.585999e-06  0.000385  \n",
       "2022-08-22 09:03:00  1.949258e-07 -1.313023e-07 -0.000257  \n",
       "2022-08-22 09:04:00  3.885850e-06 -2.195162e-06 -0.000385  \n",
       "2022-08-22 09:05:00  1.509589e-07  5.180457e-06  0.000384  \n",
       "2022-08-22 09:06:00  7.338000e-07  1.589869e-07 -0.000128  \n",
       "...                           ...           ...       ...  \n",
       "2022-09-01 14:56:00  3.477241e-07  2.814037e-07 -0.000124  \n",
       "2022-09-01 14:57:00  1.335380e-06  0.000000e+00 -0.000000  \n",
       "2022-09-01 14:58:00  6.604965e-08 -9.191747e-08 -0.000371  \n",
       "2022-09-01 14:59:00  9.610507e-06 -6.638291e-06  0.000123  \n",
       "2022-09-01 15:00:00  1.058189e-11 -2.323559e-09  0.000185  \n",
       "\n",
       "[1640 rows x 8 columns]"
      ]
     },
     "execution_count": 51,
     "metadata": {},
     "output_type": "execute_result"
    }
   ],
   "source": [
    "alpha_matrix_2"
   ]
  },
  {
   "cell_type": "code",
   "execution_count": 52,
   "id": "03e54639",
   "metadata": {},
   "outputs": [
    {
     "data": {
      "text/plain": [
       "<AxesSubplot: >"
      ]
     },
     "execution_count": 52,
     "metadata": {},
     "output_type": "execute_result"
    },
    {
     "data": {
      "image/png": "[encoded data removed]",
      "text/plain": [
       "<Figure size 640x480 with 2 Axes>"
      ]
     },
     "metadata": {},
     "output_type": "display_data"
    }
   ],
   "source": [
    "sns.heatmap(alpha_matrix_2.corr(),  annot=True, cmap=\"Blues\")"
   ]
  },
  {
   "cell_type": "code",
   "execution_count": 60,
   "id": "9758d217",
   "metadata": {},
   "outputs": [],
   "source": [
    "alpha_matrix_2 = alpha_matrix_2.drop(\"alpha8\", axis=1)"
   ]
  },
  {
   "cell_type": "code",
   "execution_count": 61,
   "id": "b4058a10",
   "metadata": {},
   "outputs": [],
   "source": [
    "X = alpha_matrix_2\n",
    "y = alpha_matrix.iloc[:, 5]"
   ]
  },
  {
   "cell_type": "code",
   "execution_count": 62,
   "id": "e0ade975",
   "metadata": {},
   "outputs": [],
   "source": [
    "X.to_csv(\"X.csv\")\n",
    "y.to_csv(\"y.csv\")"
   ]
  }
 ],
 "metadata": {
  "kernelspec": {
   "display_name": "Python 3 (ipykernel)",
   "language": "python",
   "name": "python3"
  },
  "language_info": {
   "codemirror_mode": {
    "name": "ipython",
    "version": 3
   },
   "file_extension": ".py",
   "mimetype": "text/x-python",
   "name": "python",
   "nbconvert_exporter": "python",
   "pygments_lexer": "ipython3",
   "version": "3.9.16"
  },
  "toc": {
   "base_numbering": 1,
   "nav_menu": {},
   "number_sections": true,
   "sideBar": true,
   "skip_h1_title": false,
   "title_cell": "Table of Contents",
   "title_sidebar": "Contents",
   "toc_cell": false,
   "toc_position": {},
   "toc_section_display": true,
   "toc_window_display": false
  },
  "varInspector": {
   "cols": {
    "lenName": 16,
    "lenType": 16,
    "lenVar": 40
   },
   "kernels_config": {
    "python": {
     "delete_cmd_postfix": "",
     "delete_cmd_prefix": "del ",
     "library": "var_list.py",
     "varRefreshCmd": "print(var_dic_list())"
    },
    "r": {
     "delete_cmd_postfix": ") ",
     "delete_cmd_prefix": "rm(",
     "library": "var_list.r",
     "varRefreshCmd": "cat(var_dic_list()) "
    }
   },
   "types_to_exclude": [
    "module",
    "function",
    "builtin_function_or_method",
    "instance",
    "_Feature"
   ],
   "window_display": false
  }
 },
 "nbformat": 4,
 "nbformat_minor": 5
}
