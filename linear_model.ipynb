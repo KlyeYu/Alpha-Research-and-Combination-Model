{
 "cells": [
  {
   "cell_type": "code",
   "execution_count": 1,
   "id": "97d0ecd6",
   "metadata": {},
   "outputs": [],
   "source": [
    "import pandas as pd\n",
    "import numpy as np\n",
    "import matplotlib.pyplot as plt\n",
    "import seaborn as sns"
   ]
  },
  {
   "cell_type": "code",
   "execution_count": 2,
   "id": "ba016864",
   "metadata": {},
   "outputs": [],
   "source": [
    "X = pd.read_csv(\"X.csv\", index_col=0)\n",
    "y = pd.read_csv(\"y.csv\", index_col=0)"
   ]
  },
  {
   "cell_type": "code",
   "execution_count": 3,
   "id": "7168d1ed",
   "metadata": {},
   "outputs": [],
   "source": [
    "from sklearn.preprocessing import StandardScaler"
   ]
  },
  {
   "cell_type": "code",
   "execution_count": 4,
   "id": "3f90e6fa",
   "metadata": {},
   "outputs": [],
   "source": [
    "# standardize the data.\n",
    "ss_X = StandardScaler()\n",
    "X_ss = ss_X.fit_transform(X)\n",
    "ss_y = StandardScaler()\n",
    "y_ss = ss_y.fit_transform(np.array(y).reshape(-1, 1))"
   ]
  },
  {
   "cell_type": "code",
   "execution_count": 5,
   "id": "5435cb58",
   "metadata": {},
   "outputs": [],
   "source": [
    "X_ss = pd.DataFrame(X_ss, columns=[\"alpha1\", \"alpha2\", \"alpha3\", \"alpha4\", \"alpha5\", \"alpha6\", \"alpha7\"])\n",
    "y_ss = pd.DataFrame(y_ss, columns=[\"return\"])"
   ]
  },
  {
   "cell_type": "code",
   "execution_count": 6,
   "id": "f0ef9da8",
   "metadata": {},
   "outputs": [],
   "source": [
    "from sklearn.linear_model import LinearRegression\n",
    "from sklearn.linear_model import Ridge\n",
    "from sklearn.model_selection import cross_val_score\n",
    "import statsmodels.api as sm\n",
    "from sklearn.metrics import r2_score\n",
    "from sklearn.model_selection import train_test_split"
   ]
  },
  {
   "cell_type": "code",
   "execution_count": 7,
   "id": "a4c7994f",
   "metadata": {},
   "outputs": [],
   "source": [
    "X_ss = sm.add_constant(X_ss)"
   ]
  },
  {
   "cell_type": "code",
   "execution_count": 8,
   "id": "2ec10722",
   "metadata": {},
   "outputs": [
    {
     "name": "stdout",
     "output_type": "stream",
     "text": [
      "\\begin{center}\n",
      "\\begin{tabular}{lclc}\n",
      "\\toprule\n",
      "\\textbf{Dep. Variable:}    &      return      & \\textbf{  R-squared:         } &     0.059   \\\\\n",
      "\\textbf{Model:}            &       OLS        & \\textbf{  Adj. R-squared:    } &     0.054   \\\\\n",
      "\\textbf{Method:}           &  Least Squares   & \\textbf{  F-statistic:       } &     14.49   \\\\\n",
      "\\textbf{Date:}             & Thu, 13 Apr 2023 & \\textbf{  Prob (F-statistic):} &  2.13e-18   \\\\\n",
      "\\textbf{Time:}             &     21:07:18     & \\textbf{  Log-Likelihood:    } &   -2277.6   \\\\\n",
      "\\textbf{No. Observations:} &        1640      & \\textbf{  AIC:               } &     4571.   \\\\\n",
      "\\textbf{Df Residuals:}     &        1632      & \\textbf{  BIC:               } &     4614.   \\\\\n",
      "\\textbf{Df Model:}         &           7      & \\textbf{                     } &             \\\\\n",
      "\\textbf{Covariance Type:}  &    nonrobust     & \\textbf{                     } &             \\\\\n",
      "\\bottomrule\n",
      "\\end{tabular}\n",
      "\\begin{tabular}{lcccccc}\n",
      "                & \\textbf{coef} & \\textbf{std err} & \\textbf{t} & \\textbf{P$> |$t$|$} & \\textbf{[0.025} & \\textbf{0.975]}  \\\\\n",
      "\\midrule\n",
      "\\textbf{const}  &    4.982e-15  &        0.024     &  2.07e-13  &         1.000        &       -0.047    &        0.047     \\\\\n",
      "\\textbf{alpha1} &       0.1395  &        0.037     &     3.813  &         0.000        &        0.068    &        0.211     \\\\\n",
      "\\textbf{alpha2} &       0.0632  &        0.026     &     2.472  &         0.014        &        0.013    &        0.113     \\\\\n",
      "\\textbf{alpha3} &       0.0241  &        0.040     &     0.608  &         0.543        &       -0.054    &        0.102     \\\\\n",
      "\\textbf{alpha4} &      -0.0600  &        0.040     &    -1.520  &         0.129        &       -0.138    &        0.017     \\\\\n",
      "\\textbf{alpha5} &       0.1028  &        0.024     &     4.198  &         0.000        &        0.055    &        0.151     \\\\\n",
      "\\textbf{alpha6} &       0.1459  &        0.026     &     5.665  &         0.000        &        0.095    &        0.196     \\\\\n",
      "\\textbf{alpha7} &       0.0663  &        0.025     &     2.626  &         0.009        &        0.017    &        0.116     \\\\\n",
      "\\bottomrule\n",
      "\\end{tabular}\n",
      "\\begin{tabular}{lclc}\n",
      "\\textbf{Omnibus:}       & 101.690 & \\textbf{  Durbin-Watson:     } &    2.003  \\\\\n",
      "\\textbf{Prob(Omnibus):} &   0.000 & \\textbf{  Jarque-Bera (JB):  } &  423.705  \\\\\n",
      "\\textbf{Skew:}          &  -0.076 & \\textbf{  Prob(JB):          } & 9.85e-93  \\\\\n",
      "\\textbf{Kurtosis:}      &   5.485 & \\textbf{  Cond. No.          } &     3.23  \\\\\n",
      "\\bottomrule\n",
      "\\end{tabular}\n",
      "%\\caption{OLS Regression Results}\n",
      "\\end{center}\n",
      "\n",
      "Notes: \\newline\n",
      " [1] Standard Errors assume that the covariance matrix of the errors is correctly specified.\n"
     ]
    }
   ],
   "source": [
    "regression1 = sm.OLS(y_ss, X_ss)\n",
    "model1 = regression1.fit()\n",
    "print(model1.summary().as_latex())"
   ]
  },
  {
   "cell_type": "code",
   "execution_count": 9,
   "id": "0aa6d011",
   "metadata": {},
   "outputs": [],
   "source": [
    "X_train,X_test,y_train,y_test = train_test_split(X_ss, y_ss, random_state=10)"
   ]
  },
  {
   "cell_type": "code",
   "execution_count": 10,
   "id": "f1a28706",
   "metadata": {
    "scrolled": true
   },
   "outputs": [
    {
     "data": {
      "text/plain": [
       "0.020967364748314087"
      ]
     },
     "execution_count": 10,
     "metadata": {},
     "output_type": "execute_result"
    }
   ],
   "source": [
    "reg_1 = LinearRegression()\n",
    "cross_val_score(reg_1,X_train,y_train,cv=10,scoring=\"r2\").mean()"
   ]
  },
  {
   "cell_type": "code",
   "execution_count": 11,
   "id": "97996135",
   "metadata": {},
   "outputs": [
    {
     "data": {
      "text/plain": [
       "0.021045370329735823"
      ]
     },
     "execution_count": 11,
     "metadata": {},
     "output_type": "execute_result"
    }
   ],
   "source": [
    "reg_2 = Ridge()\n",
    "cross_val_score(reg_2,X_train,y_train,cv=10,scoring=\"r2\").mean()"
   ]
  },
  {
   "cell_type": "code",
   "execution_count": 12,
   "id": "051995d2",
   "metadata": {},
   "outputs": [
    {
     "name": "stdout",
     "output_type": "stream",
     "text": [
      "linear reg of 1, 2, 5, 6, 7: 0.02301672427984224\n",
      "ridge reg of 1, 2, 5, 6, 7: 0.023077314838793307\n",
      "linear reg of 2, 3, 5, 6, 7: 0.01987591299283118\n",
      "ridge reg of 2, 3, 5, 6, 7: 0.019936738807049537\n",
      "linear reg of 2, 4, 5, 6, 7: 0.01834074905605738\n",
      "ridge reg of 2, 4, 5, 6, 7: 0.01840065375168278\n"
     ]
    }
   ],
   "source": [
    "# consider the correlation of alpha1, alpha3, alpha4, I take one of them and train model one by one.\n",
    "X_2 = X_train.iloc[:, [0, 1, 2, 5, 6, 7]] \n",
    "X_3 = X_train.iloc[:, [0, 2, 3, 5, 6, 7]]\n",
    "X_4 = X_train.iloc[:, [0, 2, 4, 5, 6, 7]]\n",
    "print(\"linear reg of 1, 2, 5, 6, 7: {}\".format(cross_val_score(reg_1,X_2,y_train,cv=10,scoring=\"r2\").mean()))\n",
    "print(\"ridge reg of 1, 2, 5, 6, 7: {}\".format(cross_val_score(reg_2,X_2,y_train,cv=10,scoring=\"r2\").mean()))\n",
    "print(\"linear reg of 2, 3, 5, 6, 7: {}\".format(cross_val_score(reg_1,X_3,y_train,cv=10,scoring=\"r2\").mean()))\n",
    "print(\"ridge reg of 2, 3, 5, 6, 7: {}\".format(cross_val_score(reg_2,X_3,y_train,cv=10,scoring=\"r2\").mean()))\n",
    "print(\"linear reg of 2, 4, 5, 6, 7: {}\".format(cross_val_score(reg_1,X_4,y_train,cv=10,scoring=\"r2\").mean()))\n",
    "print(\"ridge reg of 2, 4, 5, 6, 7: {}\".format(cross_val_score(reg_2,X_4,y_train,cv=10,scoring=\"r2\").mean()))"
   ]
  },
  {
   "cell_type": "code",
   "execution_count": 20,
   "id": "bd394ea7",
   "metadata": {},
   "outputs": [
    {
     "data": {
      "text/plain": [
       "0.0635398321255557"
      ]
     },
     "execution_count": 20,
     "metadata": {},
     "output_type": "execute_result"
    }
   ],
   "source": [
    "reg_2.fit(X_test.iloc[:, [0, 1, 2, 5, 6, 7]],y_test)\n",
    "y_pre = reg_2.predict(X_test.iloc[:, [0, 1, 2, 5, 6, 7]])\n",
    "r2_score(y_test, y_pre)"
   ]
  },
  {
   "cell_type": "code",
   "execution_count": 21,
   "id": "c1c8d081",
   "metadata": {},
   "outputs": [
    {
     "data": {
      "text/plain": [
       "Text(0, 0.5, 'Price')"
      ]
     },
     "execution_count": 21,
     "metadata": {},
     "output_type": "execute_result"
    },
    {
     "data": {
      "image/png": "[encoded data removed]",
      "text/plain": [
       "<Figure size 640x480 with 1 Axes>"
      ]
     },
     "metadata": {},
     "output_type": "display_data"
    }
   ],
   "source": [
    "y_pre = ss_y.inverse_transform(reg_2.predict(X_test.iloc[:, [0, 1, 2, 5, 6, 7]]).reshape(-1, 1))\n",
    "cash = [[1], [1]]\n",
    "for i in range(len(y_test)):\n",
    "    cash[0].append(cash[0][-1]*(1 + ss_y.inverse_transform(np.array(y_test).reshape(-1, 1))[i]))\n",
    "    cash[1].append(cash[1][-1]*(1 + y_pre[i]))\n",
    "plt.plot(range(len(y_test)), cash[0][1:], label = \"true\")\n",
    "plt.plot(range(len(y_test)), cash[1][1:], label = \"random_forest\")\n",
    "plt.legend()\n",
    "plt.xlabel(\"Time\")\n",
    "plt.ylabel(\"Price\")"
   ]
  },
  {
   "cell_type": "code",
   "execution_count": 15,
   "id": "d9053aa8",
   "metadata": {},
   "outputs": [],
   "source": [
    "import joblib"
   ]
  },
  {
   "cell_type": "code",
   "execution_count": 16,
   "id": "301d575a",
   "metadata": {},
   "outputs": [
    {
     "data": {
      "text/plain": [
       "['saved_model/reg_ridge.pkl']"
      ]
     },
     "execution_count": 16,
     "metadata": {},
     "output_type": "execute_result"
    }
   ],
   "source": [
    "joblib.dump(reg_2, 'saved_model/reg_ridge.pkl')"
   ]
  },
  {
   "cell_type": "code",
   "execution_count": 22,
   "id": "56e50feb",
   "metadata": {},
   "outputs": [
    {
     "data": {
      "text/plain": [
       "['saved_model/ss_y.pkl']"
      ]
     },
     "execution_count": 22,
     "metadata": {},
     "output_type": "execute_result"
    }
   ],
   "source": [
    "joblib.dump(ss_X, 'saved_model/ss_X.pkl')\n",
    "joblib.dump(ss_y, 'saved_model/ss_y.pkl')"
   ]
  }
 ],
 "metadata": {
  "kernelspec": {
   "display_name": "Python 3 (ipykernel)",
   "language": "python",
   "name": "python3"
  },
  "language_info": {
   "codemirror_mode": {
    "name": "ipython",
    "version": 3
   },
   "file_extension": ".py",
   "mimetype": "text/x-python",
   "name": "python",
   "nbconvert_exporter": "python",
   "pygments_lexer": "ipython3",
   "version": "3.9.16"
  },
  "toc": {
   "base_numbering": 1,
   "nav_menu": {},
   "number_sections": true,
   "sideBar": true,
   "skip_h1_title": false,
   "title_cell": "Table of Contents",
   "title_sidebar": "Contents",
   "toc_cell": false,
   "toc_position": {},
   "toc_section_display": true,
   "toc_window_display": false
  },
  "varInspector": {
   "cols": {
    "lenName": 16,
    "lenType": 16,
    "lenVar": 40
   },
   "kernels_config": {
    "python": {
     "delete_cmd_postfix": "",
     "delete_cmd_prefix": "del ",
     "library": "var_list.py",
     "varRefreshCmd": "print(var_dic_list())"
    },
    "r": {
     "delete_cmd_postfix": ") ",
     "delete_cmd_prefix": "rm(",
     "library": "var_list.r",
     "varRefreshCmd": "cat(var_dic_list()) "
    }
   },
   "types_to_exclude": [
    "module",
    "function",
    "builtin_function_or_method",
    "instance",
    "_Feature"
   ],
   "window_display": false
  }
 },
 "nbformat": 4,
 "nbformat_minor": 5
}
